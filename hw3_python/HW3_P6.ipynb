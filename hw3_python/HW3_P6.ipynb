{
 "cells": [
  {
   "cell_type": "code",
   "execution_count": null,
   "metadata": {},
   "outputs": [],
   "source": [
    "# Import Necessary Modules\n",
    "import glob\n",
    "import matplotlib.pyplot as plt \n",
    "from skimage import io\n",
    "import numpy as np\n",
    "import math\n",
    "%matplotlib inline "
   ]
  },
  {
   "cell_type": "code",
   "execution_count": null,
   "metadata": {},
   "outputs": [],
   "source": [
    "#This function reads in all images in catsfolder/ and dogsfolder/. \n",
    "#Each 64 x 64 image is reshaped into a length-4096 row vector. \n",
    "#These row vectors are stacked on top of one another to get two data\n",
    "#matrices, each with 4096 columns. The first matrix cats consists of all\n",
    "#the cat images as row vectors and the second matrix dogs consists of all\n",
    "#the dog images as row vectors.\n",
    "\n",
    "def read_cats_dogs():\n",
    "    \n",
    "    # get image filenames\n",
    "    cat_locs = glob.glob('catsfolder/*.jpg')\n",
    "    dog_locs = glob.glob('dogsfolder/*.jpg')\n",
    "    num_cats = len(cat_locs)\n",
    "    num_dogs = len(dog_locs)\n",
    "    \n",
    "    # initialize empty arrays\n",
    "    cats = np.zeros((num_cats,64*64))\n",
    "    dogs = np.zeros((num_dogs,64*64))\n",
    "              \n",
    "    #reshape images into row vectors and stack into a matrix \n",
    "    for i in range(num_cats):\n",
    "        img = cat_locs[i]\n",
    "        im = io.imread(img)\n",
    "        im = im.reshape(64*64)\n",
    "        cats[i,:] = im\n",
    "\n",
    "    for i in range(num_dogs):\n",
    "        img = dog_locs[i]\n",
    "        im = io.imread(img)\n",
    "        im = im.reshape(64*64)\n",
    "        dogs[i,:] = im\n",
    "\n",
    "    return cats, dogs"
   ]
  },
  {
   "cell_type": "code",
   "execution_count": null,
   "metadata": {},
   "outputs": [],
   "source": [
    "#This function takes in an n x 4096 data matrix X and an index i. It extracts\n",
    "#the ith row of X and displays it as a grayscale 64 x 64 image.\n",
    "\n",
    "def show_image(X, i):\n",
    "    #select image\n",
    "    image = X[i,:]\n",
    "    #reshape make into a square\n",
    "    image = image.reshape((64,64))\n",
    "    #display the image\n",
    "    plt.imshow(image,'gray')"
   ]
  },
  {
   "cell_type": "code",
   "execution_count": null,
   "metadata": {},
   "outputs": [],
   "source": [
    "#Read in data \n",
    "cats,dogs = read_cats_dogs()\n",
    "num_cats = cats.shape[0]\n",
    "num_dogs = dogs.shape[0]"
   ]
  },
  {
   "cell_type": "markdown",
   "metadata": {},
   "source": []
  },
  {
   "cell_type": "code",
   "execution_count": null,
   "metadata": {},
   "outputs": [],
   "source": [
    "#This function takes in a data matrix and outputs the \n",
    "#average row vector.\n",
    "\n",
    "def vector_average(datamatrix):\n",
    "    \n",
    "    \n",
    "    #Your code should go above this line!!!!  It computes row_avg as one large row vector.  \n",
    "    #input data matrix is a matrix with rows equal to the images.  \n",
    "\n",
    "\n",
    "    if (row_avg.shape[0]!=1): \n",
    "        raise Exception(\"The variable avg_row is not a row vector.\")\n",
    "    elif (row_avg.shape[1]!=datamatrix.shape[1]):\n",
    "        raise Exception(\"The variable row_avg does not have the same number of columns as the data matrix input.\")\n",
    "\n",
    "    return row_avg"
   ]
  },
  {
   "cell_type": "code",
   "execution_count": null,
   "metadata": {},
   "outputs": [],
   "source": [
    "#Problem 3.6\n",
    "#Calculate average cat and dogs images on the training data.\n",
    "avg_cat = vector_average(cats)\n",
    "avg_dog = vector_average(dogs)\n",
    "show_image(avg_cat,0)\n",
    "plt.title('Average Cat')"
   ]
  },
  {
   "cell_type": "code",
   "execution_count": null,
   "metadata": {},
   "outputs": [],
   "source": [
    "show_image(avg_dog,0)\n",
    "plt.title('Average Dog')"
   ]
  }
 ],
 "metadata": {
  "kernelspec": {
   "display_name": "base",
   "language": "python",
   "name": "python3"
  },
  "language_info": {
   "codemirror_mode": {
    "name": "ipython",
    "version": 3
   },
   "file_extension": ".py",
   "mimetype": "text/x-python",
   "name": "python",
   "nbconvert_exporter": "python",
   "pygments_lexer": "ipython3",
   "version": "3.9.13 (main, Aug 25 2022, 18:29:29) \n[Clang 12.0.0 ]"
  },
  "vscode": {
   "interpreter": {
    "hash": "40d3a090f54c6569ab1632332b64b2c03c39dcf918b08424e98f38b5ae0af88f"
   }
  }
 },
 "nbformat": 4,
 "nbformat_minor": 4
}

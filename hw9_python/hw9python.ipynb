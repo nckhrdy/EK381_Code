{
 "cells": [
  {
   "cell_type": "code",
   "execution_count": 2,
   "metadata": {},
   "outputs": [
    {
     "ename": "ModuleNotFoundError",
     "evalue": "No module named 'numpy'",
     "output_type": "error",
     "traceback": [
      "\u001b[0;31m---------------------------------------------------------------------------\u001b[0m",
      "\u001b[0;31mModuleNotFoundError\u001b[0m                       Traceback (most recent call last)",
      "Cell \u001b[0;32mIn[2], line 4\u001b[0m\n\u001b[1;32m      1\u001b[0m \u001b[39m#  LLSE(X,Y) produces the LLSE estimate Xhat of X from Y as well as the mean-squared error MSE\u001b[39;00m\n\u001b[1;32m      2\u001b[0m \u001b[39m#  and the coefficient of determination R2.\u001b[39;00m\n\u001b[0;32m----> 4\u001b[0m \u001b[39mimport\u001b[39;00m \u001b[39mnumpy\u001b[39;00m \u001b[39mas\u001b[39;00m \u001b[39mnp\u001b[39;00m\n\u001b[1;32m      5\u001b[0m \u001b[39mimport\u001b[39;00m \u001b[39mmatplotlib\u001b[39;00m\u001b[39m.\u001b[39;00m\u001b[39mpyplot\u001b[39;00m \u001b[39mas\u001b[39;00m \u001b[39mplt\u001b[39;00m \n",
      "\u001b[0;31mModuleNotFoundError\u001b[0m: No module named 'numpy'"
     ]
    }
   ],
   "source": [
    "#  LLSE(X,Y) produces the LLSE estimate Xhat of X from Y as well as the mean-squared error MSE\n",
    "#  and the coefficient of determination R2.\n",
    "\n",
    "import numpy as np\n",
    "import matplotlib.pyplot as plt \n",
    "\n"
   ]
  },
  {
   "cell_type": "code",
   "execution_count": null,
   "metadata": {},
   "outputs": [],
   "source": [
    "#  LLSE(X,Y) produces the LLSE estimate Xhat of X from Y as well as the mean-squared error MSE\n",
    "#  and the coefficient of determination R2.\n",
    "\n",
    "\n",
    "def LLSE(X,Y):\n",
    "    XYstack = np.column_stack((X, Y)) #concatenate X and Y\n",
    "    meanstack = np.mean(XYstack, axis=0) #mean of X and Y\n",
    "    covstack = np.cov(XYstack, rowvar=False) #covariance of X and Y\n",
    "    muX = meanstack[0] #extract mean of X\n",
    "    muY = meanstack[1:] #extract mean of Y\n",
    "    sigmaXY = covstack[0,1:] #extract cross-covariance matrix of X and Y\n",
    "    sigmaY = covstack[1:,1:] #extract covariance matrix of Y\n",
    "\n",
    "    # for loop to extract each row of Y -> transpose it to a column vector -> produce LLSE estimate\n",
    "    Y_LLSE = np.zeros.like(Y)\n",
    "    sigmaX = covstack[0,0]\n",
    "    for i in range(Y.shape[0]):\n",
    "        y_row = Y[i,:] # extract the i-th row of Y\n",
    "        y_row_col = y_row.reshape((-1,1)) # transpose the row vector to a column vector\n",
    "        Y_LLSE[i] = muY + (sigmaXY / sigmaX) * (y_row_col - muY) @ np.linalg.inv(sigmaY) @ (X - muX).T # compute the LLSE estimate for the i-th row of Y\n",
    "\n",
    "    Xhat = #Your code for predicting X from Y via LLSE vector estimation. \n",
    "    #Keep in mind that the notes and videos represent random vectors as \n",
    "    #column vectors, where as here they are the rows of a data matrix. You will\n",
    "    #need to take appropriate transposes to implement the LLSE formula.\n",
    "\n",
    "    MSE = #Your code for calculating the mean-squared error between X and Xhat.\n",
    "\n",
    "    R2 = #Your code for calculating the coefficient of determination between X and Xhat."
   ]
  },
  {
   "cell_type": "code",
   "execution_count": null,
   "metadata": {},
   "outputs": [],
   "source": [
    "#Homework 9 Python Solution: Read the data\n",
    "\n",
    "import numpy as np\n",
    "#Read data\n",
    "data = np.genfromtxt(\"concretedata.csv\", delimiter = \",\")\n",
    "X = data[1:,8]\n",
    "nx = X.shape[0]\n",
    "Y = data[1:,0:8]\n",
    "ny,dy = Y.shape\n",
    "\n"
   ]
  },
  {
   "cell_type": "code",
   "execution_count": null,
   "metadata": {},
   "outputs": [],
   "source": [
    "# Find the best vector fit: part(d)"
   ]
  },
  {
   "cell_type": "code",
   "execution_count": null,
   "metadata": {},
   "outputs": [],
   "source": [
    "#  Find the best single feature fit: part (e)"
   ]
  },
  {
   "cell_type": "code",
   "execution_count": null,
   "metadata": {},
   "outputs": [],
   "source": [
    "# Find the best nonlinear fit: part (f)"
   ]
  }
 ],
 "metadata": {
  "kernelspec": {
   "display_name": "Python 3",
   "language": "python",
   "name": "python3"
  },
  "language_info": {
   "codemirror_mode": {
    "name": "ipython",
    "version": 3
   },
   "file_extension": ".py",
   "mimetype": "text/x-python",
   "name": "python",
   "nbconvert_exporter": "python",
   "pygments_lexer": "ipython3",
   "version": "3.10.9"
  }
 },
 "nbformat": 4,
 "nbformat_minor": 4
}
